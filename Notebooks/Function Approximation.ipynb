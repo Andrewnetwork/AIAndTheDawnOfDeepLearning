{
 "cells": [
  {
   "cell_type": "markdown",
   "metadata": {},
   "source": [
    "# Function Approximation \n",
    "\n",
    "## Libraries"
   ]
  },
  {
   "cell_type": "code",
   "execution_count": 481,
   "metadata": {},
   "outputs": [],
   "source": [
    "import sympy as sp\n",
    "from IPython.display import display\n",
    "from sympy.plotting import plot\n",
    "from ipywidgets import interact\n",
    "sp.init_printing(order='lex',use_latex='mathjax')"
   ]
  },
  {
   "cell_type": "code",
   "execution_count": 451,
   "metadata": {},
   "outputs": [],
   "source": [
    "polyCoef = [a,b,c,d,e,f,g,h,i,j,k,l,m,n] = sp.symbols(\"a b c d e f g h i j k l m n\", integer=True )\n",
    "polyVars = [x,y,z] = sp.symbols(\"x y z\", integer=True )"
   ]
  },
  {
   "cell_type": "code",
   "execution_count": 452,
   "metadata": {},
   "outputs": [],
   "source": [
    "\n",
    "def buildPolynomial(polyVar,degree)-> \"ax^d + bx^d-1 + ... + c\":\n",
    "    tmp = 0\n",
    "    \n",
    "    for deg in range(degree+1):\n",
    "        tmp += polyCoef[deg]*polyVar**(degree-deg)\n",
    "    \n",
    "    return tmp\n",
    "    \n",
    "    \n",
    "def polynomialApproximation(polyVar,xs,ys,degree=None,debug=False)-> \"[expression,fn]\":\n",
    "    \n",
    "    eqns = []\n",
    "    \n",
    "    if degree == None:\n",
    "        degree = len(xs)\n",
    "    \n",
    "    fundPoly = buildPolynomial(polyVar,degree)\n",
    "    \n",
    "    if debug:\n",
    "        display(fundPoly)\n",
    "    for x,y in zip(xs,ys):\n",
    "        eqns.append(sp.Eq(fundPoly.subs(polyVar,x),y))\n",
    "\n",
    "    if debug: \n",
    "        display(eqns)\n",
    "        \n",
    "    sln = sp.solve(eqns)\n",
    "    \n",
    "    if debug: \n",
    "        display(sln)\n",
    "        \n",
    "    expr = fundPoly.subs(sln)\n",
    "    \n",
    "    if debug:\n",
    "        display(expr)\n",
    "        \n",
    "    return [expr,sp.lambdify(polyVar, expr)]\n",
    "\n"
   ]
  },
  {
   "cell_type": "code",
   "execution_count": 480,
   "metadata": {},
   "outputs": [
    {
     "data": {
      "text/latex": [
       "$$2 x$$"
      ],
      "text/plain": [
       "2⋅x"
      ]
     },
     "metadata": {},
     "output_type": "display_data"
    },
    {
     "data": {
      "image/png": "[encoded data removed]",
      "text/plain": [
       "<matplotlib.figure.Figure at 0x1c17f9bc470>"
      ]
     },
     "metadata": {},
     "output_type": "display_data"
    },
    {
     "data": {
      "text/plain": [
       "<sympy.plotting.plot.Plot at 0x1c17fa4a9e8>"
      ]
     },
     "execution_count": 480,
     "metadata": {},
     "output_type": "execute_result"
    }
   ],
   "source": [
    "xs = [1,2,3,4,5,6,7,8,9,10]\n",
    "ys = [2,4,6,8,10,12,14,16]\n",
    "appxFn = polynomialApproximation(polyVars[0],xs,ys,degree=2,debug = False)\n",
    "display(appxFn[0])\n",
    "plot(appxFn[0])\n"
   ]
  },
  {
   "cell_type": "code",
   "execution_count": 476,
   "metadata": {},
   "outputs": [
    {
     "name": "stdout",
     "output_type": "stream",
     "text": [
      "0\n",
      "2\n",
      "4\n",
      "6\n",
      "8\n",
      "10\n",
      "12\n",
      "14\n",
      "16\n",
      "18\n"
     ]
    }
   ],
   "source": [
    "for i in range(10):\n",
    "    print(appxFn[1](i))"
   ]
  },
  {
   "cell_type": "code",
   "execution_count": 501,
   "metadata": {},
   "outputs": [
    {
     "name": "stdout",
     "output_type": "stream",
     "text": [
      "-10\n"
     ]
    },
    {
     "data": {
      "text/latex": [
       "$$a x^{2} + b x + c$$"
      ],
      "text/plain": [
       "   2          \n",
       "a⋅x  + b⋅x + c"
      ]
     },
     "metadata": {},
     "output_type": "display_data"
    },
    {
     "data": {
      "text/latex": [
       "$$\\left [ 100 a - 10 b + c = -10, \\quad 100 a - 10 b + c = -10, \\quad 100 a - 10 b + c = -10, \\quad 100 a - 10 b + c = -10\\right ]$$"
      ],
      "text/plain": [
       "[100⋅a - 10⋅b + c = -10, 100⋅a - 10⋅b + c = -10, 100⋅a - 10⋅b + c = -10, 100⋅a\n",
       " - 10⋅b + c = -10]"
      ]
     },
     "metadata": {},
     "output_type": "display_data"
    },
    {
     "data": {
      "text/latex": [
       "$$\\left \\{ a : \\frac{b}{10} - \\frac{c}{100} - \\frac{1}{10}\\right \\}$$"
      ],
      "text/plain": [
       "⎧   b     c    1 ⎫\n",
       "⎨a: ── - ─── - ──⎬\n",
       "⎩   10   100   10⎭"
      ]
     },
     "metadata": {},
     "output_type": "display_data"
    },
    {
     "data": {
      "text/latex": [
       "$$b x + c + x^{2} \\left(\\frac{b}{10} - \\frac{c}{100} - \\frac{1}{10}\\right)$$"
      ],
      "text/plain": [
       "           2 ⎛b     c    1 ⎞\n",
       "b⋅x + c + x ⋅⎜── - ─── - ──⎟\n",
       "             ⎝10   100   10⎠"
      ]
     },
     "metadata": {},
     "output_type": "display_data"
    },
    {
     "data": {
      "text/latex": [
       "$$b x + c + x^{2} \\left(\\frac{b}{10} - \\frac{c}{100} - \\frac{1}{10}\\right)$$"
      ],
      "text/plain": [
       "           2 ⎛b     c    1 ⎞\n",
       "b⋅x + c + x ⋅⎜── - ─── - ──⎟\n",
       "             ⎝10   100   10⎠"
      ]
     },
     "metadata": {},
     "output_type": "display_data"
    },
    {
     "ename": "ValueError",
     "evalue": "The same variable should be used in all univariate expressions being plotted.",
     "output_type": "error",
     "traceback": [
      "\u001b[1;31m---------------------------------------------------------------------------\u001b[0m",
      "\u001b[1;31mValueError\u001b[0m                                Traceback (most recent call last)",
      "\u001b[1;32m~\\AppData\\Roaming\\Python\\Python35\\site-packages\\ipywidgets\\widgets\\interaction.py\u001b[0m in \u001b[0;36mupdate\u001b[1;34m(self, *args)\u001b[0m\n\u001b[0;32m    248\u001b[0m                     \u001b[0mvalue\u001b[0m \u001b[1;33m=\u001b[0m \u001b[0mwidget\u001b[0m\u001b[1;33m.\u001b[0m\u001b[0mget_interact_value\u001b[0m\u001b[1;33m(\u001b[0m\u001b[1;33m)\u001b[0m\u001b[1;33m\u001b[0m\u001b[0m\n\u001b[0;32m    249\u001b[0m                     \u001b[0mself\u001b[0m\u001b[1;33m.\u001b[0m\u001b[0mkwargs\u001b[0m\u001b[1;33m[\u001b[0m\u001b[0mwidget\u001b[0m\u001b[1;33m.\u001b[0m\u001b[0m_kwarg\u001b[0m\u001b[1;33m]\u001b[0m \u001b[1;33m=\u001b[0m \u001b[0mvalue\u001b[0m\u001b[1;33m\u001b[0m\u001b[0m\n\u001b[1;32m--> 250\u001b[1;33m                 \u001b[0mself\u001b[0m\u001b[1;33m.\u001b[0m\u001b[0mresult\u001b[0m \u001b[1;33m=\u001b[0m \u001b[0mself\u001b[0m\u001b[1;33m.\u001b[0m\u001b[0mf\u001b[0m\u001b[1;33m(\u001b[0m\u001b[1;33m**\u001b[0m\u001b[0mself\u001b[0m\u001b[1;33m.\u001b[0m\u001b[0mkwargs\u001b[0m\u001b[1;33m)\u001b[0m\u001b[1;33m\u001b[0m\u001b[0m\n\u001b[0m\u001b[0;32m    251\u001b[0m                 \u001b[0mshow_inline_matplotlib_plots\u001b[0m\u001b[1;33m(\u001b[0m\u001b[1;33m)\u001b[0m\u001b[1;33m\u001b[0m\u001b[0m\n\u001b[0;32m    252\u001b[0m                 \u001b[1;32mif\u001b[0m \u001b[0mself\u001b[0m\u001b[1;33m.\u001b[0m\u001b[0mauto_display\u001b[0m \u001b[1;32mand\u001b[0m \u001b[0mself\u001b[0m\u001b[1;33m.\u001b[0m\u001b[0mresult\u001b[0m \u001b[1;32mis\u001b[0m \u001b[1;32mnot\u001b[0m \u001b[1;32mNone\u001b[0m\u001b[1;33m:\u001b[0m\u001b[1;33m\u001b[0m\u001b[0m\n",
      "\u001b[1;32m<ipython-input-501-abb3c7ee36dc>\u001b[0m in \u001b[0;36mintFunc\u001b[1;34m(x1, x2, x3, x4, y1, y2, y3, y4)\u001b[0m\n\u001b[0;32m      9\u001b[0m     \u001b[0mappxFn\u001b[0m \u001b[1;33m=\u001b[0m \u001b[0mpolynomialApproximation\u001b[0m\u001b[1;33m(\u001b[0m\u001b[0mpolyVars\u001b[0m\u001b[1;33m[\u001b[0m\u001b[1;36m0\u001b[0m\u001b[1;33m]\u001b[0m\u001b[1;33m,\u001b[0m\u001b[0mxs\u001b[0m\u001b[1;33m,\u001b[0m\u001b[0mys\u001b[0m\u001b[1;33m,\u001b[0m\u001b[0mdegree\u001b[0m\u001b[1;33m=\u001b[0m\u001b[1;36m2\u001b[0m\u001b[1;33m,\u001b[0m\u001b[0mdebug\u001b[0m \u001b[1;33m=\u001b[0m \u001b[1;32mTrue\u001b[0m\u001b[1;33m)\u001b[0m\u001b[1;33m\u001b[0m\u001b[0m\n\u001b[0;32m     10\u001b[0m     \u001b[0mdisplay\u001b[0m\u001b[1;33m(\u001b[0m\u001b[0mappxFn\u001b[0m\u001b[1;33m[\u001b[0m\u001b[1;36m0\u001b[0m\u001b[1;33m]\u001b[0m\u001b[1;33m)\u001b[0m\u001b[1;33m\u001b[0m\u001b[0m\n\u001b[1;32m---> 11\u001b[1;33m     \u001b[0mplot\u001b[0m\u001b[1;33m(\u001b[0m\u001b[0mappxFn\u001b[0m\u001b[1;33m[\u001b[0m\u001b[1;36m0\u001b[0m\u001b[1;33m]\u001b[0m\u001b[1;33m)\u001b[0m\u001b[1;33m\u001b[0m\u001b[0m\n\u001b[0m\u001b[0;32m     12\u001b[0m \u001b[1;33m\u001b[0m\u001b[0m\n\u001b[0;32m     13\u001b[0m interact(intFunc,x1=[-10,10,0.5],x2=[-10,10,0.5],x3=[-10,10,0.5],x4=[-10,10,0.5],\n",
      "\u001b[1;32m~\\AppData\\Roaming\\Python\\Python35\\site-packages\\sympy\\plotting\\plot.py\u001b[0m in \u001b[0;36mplot\u001b[1;34m(*args, **kwargs)\u001b[0m\n\u001b[0;32m   1281\u001b[0m             \u001b[1;32mif\u001b[0m \u001b[0mlen\u001b[0m\u001b[1;33m(\u001b[0m\u001b[0mfree\u001b[0m\u001b[1;33m)\u001b[0m \u001b[1;33m>\u001b[0m \u001b[1;36m1\u001b[0m\u001b[1;33m:\u001b[0m\u001b[1;33m\u001b[0m\u001b[0m\n\u001b[0;32m   1282\u001b[0m                 raise ValueError(\n\u001b[1;32m-> 1283\u001b[1;33m                     \u001b[1;34m'The same variable should be used in all '\u001b[0m\u001b[1;33m\u001b[0m\u001b[0m\n\u001b[0m\u001b[0;32m   1284\u001b[0m                     'univariate expressions being plotted.')\n\u001b[0;32m   1285\u001b[0m     \u001b[0mx\u001b[0m \u001b[1;33m=\u001b[0m \u001b[0mfree\u001b[0m\u001b[1;33m.\u001b[0m\u001b[0mpop\u001b[0m\u001b[1;33m(\u001b[0m\u001b[1;33m)\u001b[0m \u001b[1;32mif\u001b[0m \u001b[0mfree\u001b[0m \u001b[1;32melse\u001b[0m \u001b[0mSymbol\u001b[0m\u001b[1;33m(\u001b[0m\u001b[1;34m'x'\u001b[0m\u001b[1;33m)\u001b[0m\u001b[1;33m\u001b[0m\u001b[0m\n",
      "\u001b[1;31mValueError\u001b[0m: The same variable should be used in all univariate expressions being plotted."
     ]
    },
    {
     "data": {
      "text/plain": [
       "<function __main__.intFunc>"
      ]
     },
     "execution_count": 501,
     "metadata": {},
     "output_type": "execute_result"
    }
   ],
   "source": [
    "\n",
    "@interact\n",
    "def intFunc(x1=1.0,x2=2,x3=3,x4=4,y1=1,y2=2,y3=3,y4=4):\n",
    "    \n",
    "    xs = [x1,x2,x3,x4]\n",
    "    ys = [y1,y2,y3,y4]\n",
    "    print(x1)\n",
    "\n",
    "    appxFn = polynomialApproximation(polyVars[0],xs,ys,degree=2,debug = True)\n",
    "    display(appxFn[0])\n",
    "    plot(appxFn[0])\n",
    "\n",
    "interact(intFunc,x1=[-10,10,0.5],x2=[-10,10,0.5],x3=[-10,10,0.5],x4=[-10,10,0.5],\n",
    "                 y1=[-10,10,0.5],y2=[-10,10,0.5],y3=[-10,10,0.5],y4=[-10,10,0.5])"
   ]
  },
  {
   "cell_type": "code",
   "execution_count": 494,
   "metadata": {},
   "outputs": [
    {
     "data": {
      "text/latex": [
       "$$a x^{9} + b x^{8} + c x^{7} + d x^{6} + e x^{5} + f x^{4} + g x^{3} + h x^{2} + i x + j$$"
      ],
      "text/plain": [
       "   9      8      7      6      5      4      3      2          \n",
       "a⋅x  + b⋅x  + c⋅x  + d⋅x  + e⋅x  + f⋅x  + g⋅x  + h⋅x  + i⋅x + j"
      ]
     },
     "metadata": {},
     "output_type": "display_data"
    },
    {
     "data": {
      "text/latex": [
       "$$\\left [ j = 2, \\quad a + b + c + d + e + f + g + h + i + j = 3, \\quad 512 a + 256 b + 128 c + 64 d + 32 e + 16 f + 8 g + 4 h + 2 i + j = 5, \\quad 19683 a + 6561 b + 2187 c + 729 d + 243 e + 81 f + 27 g + 9 h + 3 i + j = 6, \\quad 262144 a + 65536 b + 16384 c + 4096 d + 1024 e + 256 f + 64 g + 16 h + 4 i + j = 7, \\quad 1953125 a + 390625 b + 78125 c + 15625 d + 3125 e + 625 f + 125 g + 25 h + 5 i + j = 8, \\quad 10077696 a + 1679616 b + 279936 c + 46656 d + 7776 e + 1296 f + 216 g + 36 h + 6 i + j = 10\\right ]$$"
      ],
      "text/plain": [
       "[j = 2, a + b + c + d + e + f + g + h + i + j = 3, 512⋅a + 256⋅b + 128⋅c + 64⋅\n",
       "d + 32⋅e + 16⋅f + 8⋅g + 4⋅h + 2⋅i + j = 5, 19683⋅a + 6561⋅b + 2187⋅c + 729⋅d +\n",
       " 243⋅e + 81⋅f + 27⋅g + 9⋅h + 3⋅i + j = 6, 262144⋅a + 65536⋅b + 16384⋅c + 4096⋅\n",
       "d + 1024⋅e + 256⋅f + 64⋅g + 16⋅h + 4⋅i + j = 7, 1953125⋅a + 390625⋅b + 78125⋅c\n",
       " + 15625⋅d + 3125⋅e + 625⋅f + 125⋅g + 25⋅h + 5⋅i + j = 8, 10077696⋅a + 1679616\n",
       "⋅b + 279936⋅c + 46656⋅d + 7776⋅e + 1296⋅f + 216⋅g + 36⋅h + 6⋅i + j = 10]"
      ]
     },
     "metadata": {},
     "output_type": "display_data"
    },
    {
     "data": {
      "text/latex": [
       "$$\\left \\{ b : - 21 a + \\frac{h}{720} + \\frac{49 i}{14400} - \\frac{203}{864000}, \\quad c : 175 a - \\frac{7 h}{240} - \\frac{1009 i}{14400} + \\frac{7523}{864000}, \\quad d : - 735 a + \\frac{35 h}{144} + \\frac{1631 i}{2880} - \\frac{19357}{172800}, \\quad e : 1624 a - \\frac{49 h}{48} - \\frac{6503 i}{2880} + \\frac{116581}{172800}, \\quad f : - 1764 a + \\frac{203 h}{90} + \\frac{16219 i}{3600} - \\frac{429443}{216000}, \\quad g : 720 a - \\frac{49 h}{20} - \\frac{13489 i}{3600} + \\frac{522083}{216000}, \\quad j : 2\\right \\}$$"
      ],
      "text/plain": [
       "⎧            h     49⋅i    203               7⋅h   1009⋅i    7523             \n",
       "⎨b: -21⋅a + ─── + ───── - ──────, c: 175⋅a - ─── - ────── + ──────, d: -735⋅a \n",
       "⎩           720   14400   864000             240   14400    864000            \n",
       "\n",
       "  35⋅h   1631⋅i   19357               49⋅h   6503⋅i   116581               203\n",
       "+ ──── + ────── - ──────, e: 1624⋅a - ──── - ────── + ──────, f: -1764⋅a + ───\n",
       "  144     2880    172800               48     2880    172800                 9\n",
       "\n",
       "⋅h   16219⋅i   429443             49⋅h   13489⋅i   522083      ⎫\n",
       "── + ─────── - ──────, g: 720⋅a - ──── - ─────── + ──────, j: 2⎬\n",
       "0      3600    216000              20      3600    216000      ⎭"
      ]
     },
     "metadata": {},
     "output_type": "display_data"
    },
    {
     "data": {
      "text/latex": [
       "$$a x^{9} + h x^{2} + i x + x^{8} \\left(- 21 a + \\frac{h}{720} + \\frac{49 i}{14400} - \\frac{203}{864000}\\right) + x^{7} \\left(175 a - \\frac{7 h}{240} - \\frac{1009 i}{14400} + \\frac{7523}{864000}\\right) + x^{6} \\left(- 735 a + \\frac{35 h}{144} + \\frac{1631 i}{2880} - \\frac{19357}{172800}\\right) + x^{5} \\left(1624 a - \\frac{49 h}{48} - \\frac{6503 i}{2880} + \\frac{116581}{172800}\\right) + x^{4} \\left(- 1764 a + \\frac{203 h}{90} + \\frac{16219 i}{3600} - \\frac{429443}{216000}\\right) + x^{3} \\left(720 a - \\frac{49 h}{20} - \\frac{13489 i}{3600} + \\frac{522083}{216000}\\right) + 2$$"
      ],
      "text/plain": [
       "   9      2          8 ⎛         h     49⋅i    203  ⎞    7 ⎛        7⋅h   1009\n",
       "a⋅x  + h⋅x  + i⋅x + x ⋅⎜-21⋅a + ─── + ───── - ──────⎟ + x ⋅⎜175⋅a - ─── - ────\n",
       "                       ⎝        720   14400   864000⎠      ⎝        240   1440\n",
       "\n",
       "⋅i    7523 ⎞    6 ⎛         35⋅h   1631⋅i   19357 ⎞    5 ⎛         49⋅h   6503\n",
       "── + ──────⎟ + x ⋅⎜-735⋅a + ──── + ────── - ──────⎟ + x ⋅⎜1624⋅a - ──── - ────\n",
       "0    864000⎠      ⎝         144     2880    172800⎠      ⎝          48     288\n",
       "\n",
       "⋅i   116581⎞    4 ⎛          203⋅h   16219⋅i   429443⎞    3 ⎛        49⋅h   13\n",
       "── + ──────⎟ + x ⋅⎜-1764⋅a + ───── + ─────── - ──────⎟ + x ⋅⎜720⋅a - ──── - ──\n",
       "0    172800⎠      ⎝            90      3600    216000⎠      ⎝         20      \n",
       "\n",
       "489⋅i   522083⎞    \n",
       "───── + ──────⎟ + 2\n",
       "3600    216000⎠    "
      ]
     },
     "metadata": {},
     "output_type": "display_data"
    }
   ],
   "source": [
    "xs = [0,1,2,3,4,5,6,7,8]\n",
    "ys = [2,3,5,6,7,8,10]\n",
    "appxFn = polynomialApproximation(polyVars[0],xs,ys,degree=None,debug = True)"
   ]
  },
  {
   "cell_type": "code",
   "execution_count": 402,
   "metadata": {},
   "outputs": [
    {
     "data": {
      "text/latex": [
       "$$a x + c$$"
      ],
      "text/plain": [
       "a⋅x + c"
      ]
     },
     "metadata": {},
     "output_type": "display_data"
    },
    {
     "data": {
      "text/latex": [
       "$$x$$"
      ],
      "text/plain": [
       "x"
      ]
     },
     "metadata": {},
     "output_type": "display_data"
    },
    {
     "data": {
      "image/png": "[encoded data removed]",
      "text/plain": [
       "<matplotlib.figure.Figure at 0x1c17f3cd710>"
      ]
     },
     "metadata": {},
     "output_type": "display_data"
    },
    {
     "data": {
      "text/plain": [
       "<sympy.plotting.plot.Plot at 0x1c17f3cd470>"
      ]
     },
     "execution_count": 402,
     "metadata": {},
     "output_type": "execute_result"
    }
   ],
   "source": [
    "xs = [0,1,2,3,4,5,6,7,8]\n",
    "appxFn = polynomialApproximation(polyVars[0],xs,xs,degree=1,debug = True)\n",
    "plot(appxFn[0])"
   ]
  },
  {
   "cell_type": "code",
   "execution_count": 305,
   "metadata": {},
   "outputs": [
    {
     "data": {
      "text/latex": [
       "$$b \\left(a + 3\\right)$$"
      ],
      "text/plain": [
       "b⋅(a + 3)"
      ]
     },
     "execution_count": 305,
     "metadata": {},
     "output_type": "execute_result"
    }
   ],
   "source": [
    "cc = 0\n",
    "cc += polyCoef[0]+3\n",
    "dd = cc * polyCoef[1]\n",
    "dd"
   ]
  },
  {
   "cell_type": "code",
   "execution_count": 302,
   "metadata": {},
   "outputs": [
    {
     "data": {
      "text/latex": [
       "$$a x^{3} + b x^{2} + c x + d = 2$$"
      ],
      "text/plain": [
       "   3      2              \n",
       "a⋅x  + b⋅x  + c⋅x + d = 2"
      ]
     },
     "metadata": {},
     "output_type": "display_data"
    },
    {
     "data": {
      "text/latex": [
       "$$a x^{3} + b x^{2} + c x + d = 3$$"
      ],
      "text/plain": [
       "   3      2              \n",
       "a⋅x  + b⋅x  + c⋅x + d = 3"
      ]
     },
     "metadata": {},
     "output_type": "display_data"
    },
    {
     "data": {
      "text/latex": [
       "$$a x^{3} + b x^{2} + c x + d = 5$$"
      ],
      "text/plain": [
       "   3      2              \n",
       "a⋅x  + b⋅x  + c⋅x + d = 5"
      ]
     },
     "metadata": {},
     "output_type": "display_data"
    },
    {
     "data": {
      "text/latex": [
       "$$a x^{3} + b x^{2} + c x + d = 6$$"
      ],
      "text/plain": [
       "   3      2              \n",
       "a⋅x  + b⋅x  + c⋅x + d = 6"
      ]
     },
     "metadata": {},
     "output_type": "display_data"
    }
   ],
   "source": [
    "\n",
    "systemOfEqn = [sp.Eq(a*x**3 + b*x**2  +c*x + d,2),sp.Eq(a*x**3+ b*x**2  + c*x + d,3),\n",
    "               sp.Eq(a*x**3+ b*x**2  + c*x + d,5),sp.Eq(a*x**3 + b*x**2 + c*x + d,6)]\n",
    "\n",
    "for eqn in systemOfEqn:\n",
    "    display(eqn)"
   ]
  },
  {
   "cell_type": "code",
   "execution_count": 227,
   "metadata": {},
   "outputs": [
    {
     "data": {
      "text/latex": [
       "$$d = 2$$"
      ],
      "text/plain": [
       "d = 2"
      ]
     },
     "metadata": {},
     "output_type": "display_data"
    },
    {
     "data": {
      "text/latex": [
       "$$a + b + c + d = 3$$"
      ],
      "text/plain": [
       "a + b + c + d = 3"
      ]
     },
     "metadata": {},
     "output_type": "display_data"
    },
    {
     "data": {
      "text/latex": [
       "$$8 a + 4 b + 2 c + d = 5$$"
      ],
      "text/plain": [
       "8⋅a + 4⋅b + 2⋅c + d = 5"
      ]
     },
     "metadata": {},
     "output_type": "display_data"
    },
    {
     "data": {
      "text/latex": [
       "$$27 a + 9 b + 3 c + d = 6$$"
      ],
      "text/plain": [
       "27⋅a + 9⋅b + 3⋅c + d = 6"
      ]
     },
     "metadata": {},
     "output_type": "display_data"
    }
   ],
   "source": [
    "for (idx,eqn),xVal in zip(enumerate(systemOfEqn),xs):\n",
    "    systemOfEqn[idx] = eqn.subs(x,xVal)\n",
    "    display(systemOfEqn[idx])"
   ]
  },
  {
   "cell_type": "code",
   "execution_count": 230,
   "metadata": {},
   "outputs": [
    {
     "data": {
      "text/latex": [
       "$$\\left \\{ a : - \\frac{1}{3}, \\quad b : \\frac{3}{2}, \\quad c : - \\frac{1}{6}, \\quad d : 2\\right \\}$$"
      ],
      "text/plain": [
       "{a: -1/3, b: 3/2, c: -1/6, d: 2}"
      ]
     },
     "execution_count": 230,
     "metadata": {},
     "output_type": "execute_result"
    }
   ],
   "source": [
    "res = sp.solve(systemOfEqn,a,b,c,d)\n",
    "res"
   ]
  },
  {
   "cell_type": "code",
   "execution_count": 237,
   "metadata": {},
   "outputs": [
    {
     "data": {
      "text/latex": [
       "$$- \\frac{x^{3}}{3} + \\frac{3 x^{2}}{2} - \\frac{x}{6} + 2$$"
      ],
      "text/plain": [
       "   3      2        \n",
       "  x    3⋅x    x    \n",
       "- ── + ──── - ─ + 2\n",
       "  3     2     6    "
      ]
     },
     "execution_count": 237,
     "metadata": {},
     "output_type": "execute_result"
    }
   ],
   "source": [
    "eqn = (a*x**3 + b*x**2  +c*x + d).subs(res)\n",
    "eqn"
   ]
  },
  {
   "cell_type": "code",
   "execution_count": 240,
   "metadata": {},
   "outputs": [
    {
     "data": {
      "image/png": "[encoded data removed]",
      "text/plain": [
       "<matplotlib.figure.Figure at 0x1c17eea2240>"
      ]
     },
     "metadata": {},
     "output_type": "display_data"
    },
    {
     "data": {
      "text/plain": [
       "<sympy.plotting.plot.Plot at 0x1c17eea2400>"
      ]
     },
     "execution_count": 240,
     "metadata": {},
     "output_type": "execute_result"
    }
   ],
   "source": [
    "plot(eqn)"
   ]
  },
  {
   "cell_type": "code",
   "execution_count": 234,
   "metadata": {},
   "outputs": [
    {
     "data": {
      "text/latex": [
       "$$4$$"
      ],
      "text/plain": [
       "4"
      ]
     },
     "execution_count": 234,
     "metadata": {},
     "output_type": "execute_result"
    }
   ],
   "source": [
    "eqn.subs(x,4)"
   ]
  },
  {
   "cell_type": "code",
   "execution_count": 200,
   "metadata": {},
   "outputs": [
    {
     "data": {
      "text/latex": [
       "$$\\left \\{ a : - \\frac{d}{6}, \\quad b : d - \\frac{1}{2}, \\quad c : - \\frac{11 d}{6} + \\frac{7}{2}\\right \\}$$"
      ],
      "text/plain": [
       "⎧   -d                    11⋅d   7⎫\n",
       "⎨a: ───, b: d - 1/2, c: - ──── + ─⎬\n",
       "⎩    6                     6     2⎭"
      ]
     },
     "execution_count": 200,
     "metadata": {},
     "output_type": "execute_result"
    }
   ],
   "source": [
    "res"
   ]
  },
  {
   "cell_type": "code",
   "execution_count": 80,
   "metadata": {
    "collapsed": true
   },
   "outputs": [],
   "source": [
    "k = (1/2)*x**2 + (1/2)*x + 2 "
   ]
  },
  {
   "cell_type": "code",
   "execution_count": 88,
   "metadata": {},
   "outputs": [
    {
     "data": {
      "text/plain": [
       "8.00000000000000"
      ]
     },
     "execution_count": 88,
     "metadata": {},
     "output_type": "execute_result"
    }
   ],
   "source": [
    "k.subs(x,3)"
   ]
  },
  {
   "cell_type": "code",
   "execution_count": null,
   "metadata": {
    "collapsed": true
   },
   "outputs": [],
   "source": []
  }
 ],
 "metadata": {
  "kernelspec": {
   "display_name": "Python 3",
   "language": "python",
   "name": "python3"
  },
  "language_info": {
   "codemirror_mode": {
    "name": "ipython",
    "version": 3
   },
   "file_extension": ".py",
   "mimetype": "text/x-python",
   "name": "python",
   "nbconvert_exporter": "python",
   "pygments_lexer": "ipython3",
   "version": "3.5.4"
  }
 },
 "nbformat": 4,
 "nbformat_minor": 2
}
